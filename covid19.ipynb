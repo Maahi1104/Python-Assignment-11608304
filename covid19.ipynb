{
 "cells": [
  {
   "cell_type": "code",
   "execution_count": 2,
   "metadata": {},
   "outputs": [],
   "source": [
    "import pandas as pd\n",
    "import matplotlib.pyplot as plt"
   ]
  },
  {
   "cell_type": "code",
   "execution_count": 3,
   "metadata": {},
   "outputs": [
    {
     "name": "stdout",
     "output_type": "stream",
     "text": [
      "Index(['Patient Number', 'State Patient Number', 'Date Announced',\n",
      "       'Age Bracket', 'Gender', 'Detected City', 'Detected District',\n",
      "       'Detected State', 'Current Status', 'Notes',\n",
      "       'Contracted from which Patient (Suspected)', 'Nationality',\n",
      "       'Type of transmission', 'Status Change Date', 'Source_1', 'Source_2',\n",
      "       'Source_3', 'Backup Notes'],\n",
      "      dtype='object')\n"
     ]
    }
   ],
   "source": [
    "corona=pd.read_excel(\"corona.xlsx\")\n",
    "print(corona.columns)"
   ]
  },
  {
   "cell_type": "code",
   "execution_count": 4,
   "metadata": {},
   "outputs": [
    {
     "name": "stdout",
     "output_type": "stream",
     "text": [
      "      Patient Number State Patient Number       Date Announced Age Bracket  \\\n",
      "0                  1             KL-TS-P1           30/01/2020          20   \n",
      "1                  2             KL-AL-P1  2020-02-02 00:00:00         NaN   \n",
      "2                  3             KL-KS-P1  2020-03-02 00:00:00         NaN   \n",
      "3                  4                DL-P1  2020-02-03 00:00:00          45   \n",
      "4                  5                TS-P1  2020-02-03 00:00:00          24   \n",
      "...              ...                  ...                  ...         ...   \n",
      "1614            1615                  NaN           31/03/2020          31   \n",
      "1615            1616                  NaN           31/03/2020          40   \n",
      "1616            1617                  NaN           31/03/2020         NaN   \n",
      "1617            1618                  NaN           31/03/2020         NaN   \n",
      "1618            1619                  NaN           31/03/2020          81   \n",
      "\n",
      "     Gender             Detected City    Detected District Detected State  \\\n",
      "0         F                  Thrissur             Thrissur         Kerala   \n",
      "1       NaN                 Alappuzha            Alappuzha         Kerala   \n",
      "2       NaN                 Kasaragod            Kasaragod         Kerala   \n",
      "3         M  East Delhi (Mayur Vihar)           East Delhi          Delhi   \n",
      "4         M                 Hyderabad            Hyderabad      Telangana   \n",
      "...     ...                       ...                  ...            ...   \n",
      "1614      M                       NaN           Chandigarh     Chandigarh   \n",
      "1615      M                       NaN           Chandigarh     Chandigarh   \n",
      "1616      F                     NOIDA  Gautam Buddha Nagar  Uttar Pradesh   \n",
      "1617      M                     NOIDA  Gautam Buddha Nagar  Uttar Pradesh   \n",
      "1618      M                     NOIDA  Gautam Buddha Nagar  Uttar Pradesh   \n",
      "\n",
      "     Current Status                                              Notes  \\\n",
      "0         Recovered                               Travelled from Wuhan   \n",
      "1         Recovered                               Travelled from Wuhan   \n",
      "2         Recovered                               Travelled from Wuhan   \n",
      "3         Recovered                      Travelled from Austria, Italy   \n",
      "4         Recovered  Travelled from Dubai to Bangalore on 20th Feb,...   \n",
      "...             ...                                                ...   \n",
      "1614   Hospitalized  Contact of positive case of Nayagaon, Punjab, ...   \n",
      "1615   Hospitalized  Contact with a person who had returned from Ca...   \n",
      "1616   Hospitalized  Relative of patient, Switzerland-returned, ID ...   \n",
      "1617   Hospitalized  Relative of patient, Switzerland-returned, ID ...   \n",
      "1618   Hospitalized                       Sector 28; No travel history   \n",
      "\n",
      "     Contracted from which Patient (Suspected) Nationality  \\\n",
      "0                                          NaN       India   \n",
      "1                                          NaN       India   \n",
      "2                                          NaN       India   \n",
      "3                                          NaN       India   \n",
      "4                                          NaN       India   \n",
      "...                                        ...         ...   \n",
      "1614                                       NaN         NaN   \n",
      "1615                                       NaN         NaN   \n",
      "1616                                       NaN         NaN   \n",
      "1617                                       NaN         NaN   \n",
      "1618                                       NaN         NaN   \n",
      "\n",
      "     Type of transmission   Status Change Date  \\\n",
      "0                Imported           14/02/2020   \n",
      "1                Imported           14/02/2020   \n",
      "2                Imported           14/02/2020   \n",
      "3                Imported           15/03/2020   \n",
      "4                Imported  2020-02-03 00:00:00   \n",
      "...                   ...                  ...   \n",
      "1614                  TBD           31/03/2020   \n",
      "1615                  TBD           31/03/2020   \n",
      "1616                  TBD           31/03/2020   \n",
      "1617                  TBD           31/03/2020   \n",
      "1618                  TBD           31/03/2020   \n",
      "\n",
      "                                               Source_1  \\\n",
      "0     https://twitter.com/vijayanpinarayi/status/122...   \n",
      "1     https://www.indiatoday.in/india/story/kerala-r...   \n",
      "2     https://www.indiatoday.in/india/story/kerala-n...   \n",
      "3     https://www.indiatoday.in/india/story/not-a-ja...   \n",
      "4     https://www.deccanherald.com/national/south/qu...   \n",
      "...                                                 ...   \n",
      "1614                                                NaN   \n",
      "1615                                                NaN   \n",
      "1616                                                NaN   \n",
      "1617                                                NaN   \n",
      "1618                                                NaN   \n",
      "\n",
      "                                               Source_2  \\\n",
      "0     https://weather.com/en-IN/india/news/news/2020...   \n",
      "1     https://weather.com/en-IN/india/news/news/2020...   \n",
      "2     https://twitter.com/ANI/status/122422148580539...   \n",
      "3     https://economictimes.indiatimes.com/news/poli...   \n",
      "4     https://www.indiatoday.in/india/story/coronavi...   \n",
      "...                                                 ...   \n",
      "1614  https://www.tribuneindia.com/news/chandigarh/t...   \n",
      "1615  https://www.tribuneindia.com/news/chandigarh/t...   \n",
      "1616  https://twitter.com/TOINoida/status/1245042581...   \n",
      "1617  https://twitter.com/TOINoida/status/1245042581...   \n",
      "1618  https://twitter.com/TOINoida/status/1245042581...   \n",
      "\n",
      "                                               Source_3  \\\n",
      "0                                                   NaN   \n",
      "1                                                   NaN   \n",
      "2     https://weather.com/en-IN/india/news/news/2020...   \n",
      "3                                                   NaN   \n",
      "4     https://www.thehindu.com/news/national/coronav...   \n",
      "...                                                 ...   \n",
      "1614                                                NaN   \n",
      "1615                                                NaN   \n",
      "1616                                                NaN   \n",
      "1617                                                NaN   \n",
      "1618                                                NaN   \n",
      "\n",
      "                                    Backup Notes  \n",
      "0                             Student from Wuhan  \n",
      "1                             Student from Wuhan  \n",
      "2                             Student from Wuhan  \n",
      "3            Travel history to Italy and Austria  \n",
      "4     Travel history to Dubai, Singapore contact  \n",
      "...                                          ...  \n",
      "1614                                         NaN  \n",
      "1615                                         NaN  \n",
      "1616                                         NaN  \n",
      "1617                                         NaN  \n",
      "1618                                         NaN  \n",
      "\n",
      "[1619 rows x 18 columns]\n"
     ]
    }
   ],
   "source": [
    "corona = pd.read_excel(r'corona.xlsx')\n",
    "print(corona)"
   ]
  },
  {
   "cell_type": "code",
   "execution_count": 27,
   "metadata": {},
   "outputs": [
    {
     "data": {
      "image/png": "[encoded data removed]",
      "text/plain": [
       "<Figure size 720x720 with 1 Axes>"
      ]
     },
     "metadata": {
      "needs_background": "light"
     },
     "output_type": "display_data"
    }
   ],
   "source": [
    "sta=corona[\"Detected State\"].value_counts();\n",
    "sta.plot.barh(figsize=(10,10),color=\"#75ff33\");\n",
    "plt.show();"
   ]
  },
  {
   "cell_type": "code",
   "execution_count": 18,
   "metadata": {},
   "outputs": [],
   "source": [
    "corona[\"Age Bracket\"] = corona[\"Age Bracket\"].fillna(\"NIA\")\n",
    "crna=corona[\"Age Bracket\"].value_counts()"
   ]
  },
  {
   "cell_type": "code",
   "execution_count": 30,
   "metadata": {},
   "outputs": [
    {
     "name": "stdout",
     "output_type": "stream",
     "text": [
      "21    25\n",
      "35    22\n",
      "32    21\n",
      "55    20\n",
      "24    20\n",
      "      ..\n",
      "15     1\n",
      "72     1\n",
      "92     1\n",
      "89     1\n",
      "12     1\n",
      "Name: Age Bracket, Length: 78, dtype: int64\n"
     ]
    }
   ],
   "source": [
    "print(crna)\n"
   ]
  },
  {
   "cell_type": "raw",
   "metadata": {},
   "source": []
  },
  {
   "cell_type": "code",
   "execution_count": 32,
   "metadata": {},
   "outputs": [
    {
     "data": {
      "image/png": "[encoded data removed]",
      "text/plain": [
       "<Figure size 432x288 with 1 Axes>"
      ]
     },
     "metadata": {
      "needs_background": "light"
     },
     "output_type": "display_data"
    }
   ],
   "source": [
    "plt.hist(crna,color=\"#ffbd33\")\n",
    "plt.show()"
   ]
  },
  {
   "cell_type": "code",
   "execution_count": null,
   "metadata": {},
   "outputs": [],
   "source": []
  },
  {
   "cell_type": "code",
   "execution_count": null,
   "metadata": {},
   "outputs": [],
   "source": []
  }
 ],
 "metadata": {
  "kernelspec": {
   "display_name": "Python 3",
   "language": "python",
   "name": "python3"
  },
  "language_info": {
   "codemirror_mode": {
    "name": "ipython",
    "version": 3
   },
   "file_extension": ".py",
   "mimetype": "text/x-python",
   "name": "python",
   "nbconvert_exporter": "python",
   "pygments_lexer": "ipython3",
   "version": "3.7.4"
  }
 },
 "nbformat": 4,
 "nbformat_minor": 2
}
